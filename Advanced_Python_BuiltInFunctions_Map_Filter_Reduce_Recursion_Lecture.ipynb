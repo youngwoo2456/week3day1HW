{
 "cells": [
  {
   "cell_type": "markdown",
   "metadata": {},
   "source": [
    "# Map, Filter, Reduce, Lambda & Recursion"
   ]
  },
  {
   "cell_type": "markdown",
   "metadata": {},
   "source": [
    "## Tasks Today:\n",
    "\n",
    "1) <b>Lambda Functions</b> <br>\n",
    " &nbsp;&nbsp;&nbsp;&nbsp; a) Syntax <br>\n",
    " &nbsp;&nbsp;&nbsp;&nbsp; b) Saving to a Variable <br>\n",
    " &nbsp;&nbsp;&nbsp;&nbsp; c) Multiple Inputs <br>\n",
    " &nbsp;&nbsp;&nbsp;&nbsp; d) Passing a Lambda into a Function <br>\n",
    " &nbsp;&nbsp;&nbsp;&nbsp; e) Returning a Lambda from a Function <br>\n",
    " &nbsp;&nbsp;&nbsp;&nbsp; f) In-Class Exercise #1 <br>\n",
    "2) <b>Map</b> <br>\n",
    " &nbsp;&nbsp;&nbsp;&nbsp; a) Syntax <br>\n",
    " &nbsp;&nbsp;&nbsp;&nbsp; b) Using Lambda's with Map <br>\n",
    " &nbsp;&nbsp;&nbsp;&nbsp; c) In-Class Exercise #2 <br>\n",
    "3) <b>Filter</b> <br>\n",
    " &nbsp;&nbsp;&nbsp;&nbsp; a) Syntax <br>\n",
    " &nbsp;&nbsp;&nbsp;&nbsp; b) Using Lambda's with Filter <br>\n",
    " &nbsp;&nbsp;&nbsp;&nbsp; c) In-Class Exercise #3 <br>\n",
    "4) <b>Reduce</b> <br>\n",
    " &nbsp;&nbsp;&nbsp;&nbsp; a) Syntax <br>\n",
    " &nbsp;&nbsp;&nbsp;&nbsp; b) Using Lambda's with Reduce <br>\n",
    " &nbsp;&nbsp;&nbsp;&nbsp; c) In-Class Exercise #4 <br>\n",
    "5) <b>Recursion</b> <br>\n",
    " &nbsp;&nbsp;&nbsp;&nbsp; a) Implementing a Base <br>\n",
    " &nbsp;&nbsp;&nbsp;&nbsp; b) Writing a Factorial Function <br>\n",
    " &nbsp;&nbsp;&nbsp;&nbsp; c) In-Class Exercise #5 <br>\n",
    "6) <b>Generators & Iterators</b> <br>\n",
    " &nbsp;&nbsp;&nbsp;&nbsp; a) Yield Keyword <br>\n",
    " &nbsp;&nbsp;&nbsp;&nbsp; b) Inifinite Generator <br>\n",
    " &nbsp;&nbsp;&nbsp;&nbsp; c) In-Class Exercise #6 <br>\n",
    "7) <b>Exercises</b> <br>\n",
    " &nbsp;&nbsp;&nbsp;&nbsp; a) Exercise #1 - Filtering Empty Strings <br>\n",
    " &nbsp;&nbsp;&nbsp;&nbsp; b) Exercise #2 - Sorting with Last Name <br>\n",
    " &nbsp;&nbsp;&nbsp;&nbsp; c) Exercise #3 - Conversion to Farhenheit <br>\n",
    " &nbsp;&nbsp;&nbsp;&nbsp; d) Exercise #4 - Fibonacci Sequence <br>"
   ]
  },
  {
   "cell_type": "markdown",
   "metadata": {},
   "source": [
    "## Lambda Functions <br>\n",
    "<p>Lambda functions... or \"Anonymous Functions\" are referring to inline functions with no name. The keyword lambda denotes the no name function, and executes within a single line. Without saving it to a variable; however, it is not able to be used, unless passed in either as a paramater or within list comprehension.<br>Written as \"(keyword lambda) (one or more inputs) (colon) (function to be executed)\"</p>"
   ]
  },
  {
   "cell_type": "code",
   "execution_count": 9,
   "metadata": {},
   "outputs": [
    {
     "name": "stdout",
     "output_type": "stream",
     "text": [
      "7\n"
     ]
    }
   ],
   "source": [
    "#whiteboard problem week3day1: find the average of a list, round down to nearest integer\n",
    "youngGrades = [5,6,6,7,8,8,9,9,12]\n",
    "def findAvg(grades):\n",
    "    average = sum(grades)/ len(grades)\n",
    "    return int(average)\n",
    "print(findAvg(youngGrades))\n"
   ]
  },
  {
   "cell_type": "code",
   "execution_count": 18,
   "metadata": {},
   "outputs": [
    {
     "name": "stdout",
     "output_type": "stream",
     "text": [
      "What do you want to do? (ticket/pay/leave/show/exit)exit\n"
     ]
    }
   ],
   "source": [
    "#week2 project\n",
    "#if you don't have a return statement, means return none\n",
    "#class lets you make many instances of that object\n",
    "class ParkingGarage():\n",
    "    def __init__(self):\n",
    "        self.tickets = []\n",
    "        self.parkingSpaces = [0,1,2,3,4]\n",
    "        self.currentTicket = {} #value False = not paid for, True = paid for\n",
    "        return\n",
    "   \n",
    "    def takeTicket(self):\n",
    "        try:\n",
    "            spot = int(input(f'what spot do you want? Currently available: {self.parkingSpaces}\\n'))\n",
    "            self.parkingSpaces.remove(spot)\n",
    "            self.tickets.append(spot)\n",
    "            self.currentTicket[spot]= False      \n",
    "        except:\n",
    "            print('Invalid inpupt! Please enter a number')\n",
    "        \n",
    "    def payForParking(self):\n",
    "        try:\n",
    "            spot = int(input(f'Which spot do you want to pay for? \\n Current Tickets: {self.tickets}'))\n",
    "            if spot not in self.tickets:\n",
    "                print('That ticket does not exist/does not need to be paid for')\n",
    "            if self.currentTicket[spot]== True:\n",
    "                print('That ticket is already paid for! You can leave.')\n",
    "            else:\n",
    "                self.currentTicket[spot] = True\n",
    "                print(f'You have paid for ticket {spot}. Thank you, you are free to go.')\n",
    "                         \n",
    "        except:\n",
    "            print('Invalid input! Please enter a number')\n",
    "    \n",
    "    def leaveGarage(self):\n",
    "        try:\n",
    "            spot = int(input(f'Which spot are your leaving?'))\n",
    "            if spot not in self.tickets:\n",
    "                print('That ticket does not exist, please enter the correct number')\n",
    "            if self.currentTicket[spot] == False:\n",
    "                print('That spot has not been paid for.. please pay then try again')\n",
    "            else: \n",
    "                self.tickets.remove(spot)\n",
    "                self.parkingSpaces.append(spot)\n",
    "                del self.currentTicket[spot]\n",
    "                self.parkingSpaces.sort()\n",
    "                print('Thank you for using our parkign garage! Hope to see you soon.')\n",
    "        except:\n",
    "            print('Invalid input, please enter a number')\n",
    "   \n",
    "    def showAvailable(self):\n",
    "        print('available spaces: ',self.parkingSpaces)\n",
    "        print('tickets used: ',self.tickets)\n",
    "        print('tickets status: ',self.currentTicket)\n",
    "    \n",
    "    def runSimulation(self):\n",
    "        while True:\n",
    "            answer = input('What do you want to do? (ticket/pay/leave/show/exit)')\n",
    "            if answer.lower() == 'ticket':\n",
    "                self.takeTicket()\n",
    "            elif answer.lower()== 'pay':\n",
    "                self.payForParking()\n",
    "            elif answer.lower()== 'leave':\n",
    "                self.leaveGarage()\n",
    "            elif answer.lower()== 'show':\n",
    "                self.showAvailable()\n",
    "            elif answer.lower ()== 'exit':\n",
    "                break\n",
    "            else:\n",
    "                print('Invalid response. Please type: ticket/pay/leave/show/exit')\n",
    "        \n",
    "\n",
    "garage1 = ParkingGarage()\n",
    "garage1.runSimulation()\n",
    "\n",
    "#these two lines are the only actual lines of code being run, can rerun simluations on garage2 w/ different capacity etc"
   ]
  },
  {
   "cell_type": "markdown",
   "metadata": {},
   "source": [
    "#### Syntax"
   ]
  },
  {
   "cell_type": "code",
   "execution_count": 22,
   "metadata": {},
   "outputs": [
    {
     "name": "stdout",
     "output_type": "stream",
     "text": [
      "6\n",
      "12\n"
     ]
    }
   ],
   "source": [
    "def addTwo(num):\n",
    "    return num + 2\n",
    "print(addTwo(4))\n",
    "\n",
    "#Lambda function syntax\n",
    "print((lambda num: num+2)(10))\n",
    "\n",
    "#usually you define a function so you can use it again"
   ]
  },
  {
   "cell_type": "markdown",
   "metadata": {},
   "source": [
    "#### Saving to a Variable"
   ]
  },
  {
   "cell_type": "code",
   "execution_count": 23,
   "metadata": {},
   "outputs": [
    {
     "data": {
      "text/plain": [
       "12"
      ]
     },
     "execution_count": 23,
     "metadata": {},
     "output_type": "execute_result"
    }
   ],
   "source": [
    "f_test = lambda x: x+2\n",
    "f_test(10)"
   ]
  },
  {
   "cell_type": "markdown",
   "metadata": {},
   "source": [
    "#### Multiple Inputs"
   ]
  },
  {
   "cell_type": "code",
   "execution_count": 26,
   "metadata": {},
   "outputs": [
    {
     "name": "stdout",
     "output_type": "stream",
     "text": [
      "24\n",
      "12\n"
     ]
    }
   ],
   "source": [
    "# multiple input parameters not savings to variable\n",
    "print((lambda x,y,z: x+y+z)(2,10,12))\n",
    "\n",
    "# save to variable with multiple inputs\n",
    "x_test = lambda x,y,z: z-y-x\n",
    "print(x_test(1,6,19))\n"
   ]
  },
  {
   "cell_type": "markdown",
   "metadata": {},
   "source": [
    "#### Passing a Lambda into a Function"
   ]
  },
  {
   "cell_type": "code",
   "execution_count": 32,
   "metadata": {},
   "outputs": [
    {
     "data": {
      "text/plain": [
       "16"
      ]
     },
     "execution_count": 32,
     "metadata": {},
     "output_type": "execute_result"
    }
   ],
   "source": [
    "def multiply(f, num):\n",
    "    '''\n",
    "    f expects a lambda function\n",
    "    num expects a number \n",
    "    '''\n",
    "    return f(num)\n",
    "multiply(lambda x:x*x, 4)\n",
    "#lamda saved to variable f and the x saved into the num\n"
   ]
  },
  {
   "cell_type": "markdown",
   "metadata": {},
   "source": [
    "#### Returning a Lambda from a Function"
   ]
  },
  {
   "cell_type": "code",
   "execution_count": 37,
   "metadata": {},
   "outputs": [
    {
     "name": "stdout",
     "output_type": "stream",
     "text": [
      "8\n",
      "15\n"
     ]
    }
   ],
   "source": [
    "# regular defiend function\n",
    "def multiplyTest(num):\n",
    "    return num * 4\n",
    "\n",
    "\n",
    "def returnFunc():\n",
    "    test = 4\n",
    "    def multiply2(num):\n",
    "        return num * 2\n",
    "    return multiply2\n",
    "\n",
    "fReturn = returnFunc() #saying fReturn = multiply2(num)\n",
    "print(fReturn(4))\n",
    "\n",
    "#the fReturn calls the multiply2 funciton\n",
    "\n",
    "def returnLambda(b,c):\n",
    "    return lambda x,y: x*y+b+c        #x,y are the input parameters\n",
    "\n",
    "lReturn = returnLambda(4,5)    #this returns another function w/ 4,5 plugged into b,c\n",
    "print(lReturn(2,3))               #2, 3 are being plugged into x and y\n",
    "#lambda functions are helpful for call back functions "
   ]
  },
  {
   "cell_type": "markdown",
   "metadata": {},
   "source": [
    "#### If Statements within Lambdas"
   ]
  },
  {
   "cell_type": "code",
   "execution_count": 46,
   "metadata": {},
   "outputs": [
    {
     "name": "stdout",
     "output_type": "stream",
     "text": [
      "24\n",
      "12\n"
     ]
    }
   ],
   "source": [
    "lCondition = lambda num: num*2 if num>10 else num +2\n",
    "print(fCondition(12))\n",
    "\n",
    "#variable_name = x: what to do to x, if statement\n",
    "\n",
    "def fCondition(num):\n",
    "    if num >10:\n",
    "        return num *2\n",
    "    else:\n",
    "        return num +2\n",
    "print(fCondition(10))\n",
    "\n"
   ]
  },
  {
   "cell_type": "markdown",
   "metadata": {},
   "source": [
    "#### In-Class Exercise #1 <br>\n",
    "<p>Write an anonymous function that cubes the arguments passed in and assign the anonymous function to a variable 'f'.</p>"
   ]
  },
  {
   "cell_type": "code",
   "execution_count": 47,
   "metadata": {},
   "outputs": [
    {
     "name": "stdout",
     "output_type": "stream",
     "text": [
      "8\n"
     ]
    }
   ],
   "source": [
    "f = lambda x: x**3\n",
    "print(f(2))\n",
    "\n",
    "print('think I can do it another way- function within a function type beat')\n",
    "\n"
   ]
  },
  {
   "cell_type": "markdown",
   "metadata": {},
   "source": [
    "## Map <br>\n",
    "<p>The map function allows you to iterate over an entire list while running a function on each item of the list. This is why the map function works well with lambda's, because it simplifies things and you write less lines of code.<br>The syntax for a map function is \"map(function to be used, list to be used)\"<br>However, you must be careful, as the map function returns a map object, not a list. To turn it into a list we use the list() type conversion.</p>"
   ]
  },
  {
   "cell_type": "markdown",
   "metadata": {},
   "source": [
    "#### Syntax"
   ]
  },
  {
   "cell_type": "code",
   "execution_count": 141,
   "metadata": {},
   "outputs": [
    {
     "name": "stdout",
     "output_type": "stream",
     "text": [
      "[1, 4, 9, 16, 5, 6, 7, 8]\n",
      "==================================\n",
      "[1, 4, 9, 16, 25]\n"
     ]
    }
   ],
   "source": [
    "#map(func, iter)\n",
    "def square(x):\n",
    "    if x <5:\n",
    "        return x**2\n",
    "    else:\n",
    "        return x\n",
    "output = list(map(square, [1,2,3,4,5,6,7,8]))\n",
    "print(output)\n",
    "\n",
    "print('==================================')\n",
    "def regSquare(list1):\n",
    "    output2 = []\n",
    "    for num in list1:\n",
    "        output2.append(num**2)\n",
    "    return output2\n",
    "print(regSquare([1,2,3,4,5]))\n",
    "\n",
    "\n"
   ]
  },
  {
   "cell_type": "markdown",
   "metadata": {},
   "source": [
    "#### Using Lambda's with Map"
   ]
  },
  {
   "cell_type": "code",
   "execution_count": 65,
   "metadata": {},
   "outputs": [
    {
     "data": {
      "text/plain": [
       "[16, 5, 6, 7, 8]"
      ]
     },
     "execution_count": 65,
     "metadata": {},
     "output_type": "execute_result"
    }
   ],
   "source": [
    "list(map(lambda x: x**2 if x<5 else x, [4,5,6,7,8]))"
   ]
  },
  {
   "cell_type": "markdown",
   "metadata": {},
   "source": [
    "#### In-Class Exercise #2 <br>\n",
    "<p>Use the map function to double each number and minus it by one in the list by using a lambda function</p>"
   ]
  },
  {
   "cell_type": "code",
   "execution_count": 69,
   "metadata": {},
   "outputs": [
    {
     "data": {
      "text/plain": [
       "[1, 3, 5, 7, 9, 11]"
      ]
     },
     "execution_count": 69,
     "metadata": {},
     "output_type": "execute_result"
    }
   ],
   "source": [
    "list1 = [1,2,3,4,5,6]\n",
    "list(map(lambda x: x*2-1,list1 ))"
   ]
  },
  {
   "cell_type": "markdown",
   "metadata": {},
   "source": [
    "## Filter() <br>\n",
    "<p>Filter's are similar to the map function, where you're able to pass a function argument and a list argument and filter out something from the list based on the conditions passed. Similar to the map function, it returns a filter object, so you need to type convert it to a list()</p>"
   ]
  },
  {
   "cell_type": "markdown",
   "metadata": {},
   "source": [
    "#### Syntax"
   ]
  },
  {
   "cell_type": "code",
   "execution_count": 75,
   "metadata": {},
   "outputs": [
    {
     "data": {
      "text/plain": [
       "[1, 3, 5, 7, 9]"
      ]
     },
     "execution_count": 75,
     "metadata": {},
     "output_type": "execute_result"
    }
   ],
   "source": [
    "#map(func, iter): map adds the return value of func() to our new list\n",
    "#filter(func, iter): adds teh same value from iter, based on wheter the return value of func() is true or not\n",
    "def myFilter(num):\n",
    "    if num%2==0:\n",
    "        return False   #filtering out the even numbers \n",
    "    return True   #if not false, returns True\n",
    "\n",
    "list(filter(myFilter, [1,2,3,4,5,6,7,8,9]))\n",
    "#the variables in the function that return True are put into the list\n",
    "\n",
    "# can't do myFilter([1,2,3,4,5]) bc you can't % a list unless you do a loop; filter loops for us"
   ]
  },
  {
   "cell_type": "markdown",
   "metadata": {},
   "source": [
    "#### Using Lambda's with Filter()"
   ]
  },
  {
   "cell_type": "code",
   "execution_count": 76,
   "metadata": {},
   "outputs": [
    {
     "data": {
      "text/plain": [
       "[1, 3, 5, 7, 9]"
      ]
     },
     "execution_count": 76,
     "metadata": {},
     "output_type": "execute_result"
    }
   ],
   "source": [
    "list(filter(lambda x: False if x%2==0 else True, [1,2,3,4,5,6,7,8,9]))"
   ]
  },
  {
   "cell_type": "markdown",
   "metadata": {},
   "source": [
    "#### In-Class Exercise #3 <br>\n",
    "<p>Filter out all the numbers that are below the mean of the list.<br><b>Hint: Import the 'statistics' module</b></p>"
   ]
  },
  {
   "cell_type": "code",
   "execution_count": 89,
   "metadata": {},
   "outputs": [
    {
     "name": "stdout",
     "output_type": "stream",
     "text": [
      "[6, 7, 8, 9, 10]\n",
      "shoha way=============================\n",
      "[6, 7, 8, 9, 10]\n"
     ]
    }
   ],
   "source": [
    "import statistics\n",
    "\n",
    "data = [1,2,3,4,5,6,7,8,9,10]\n",
    "print(list(filter(lambda x: False if x < statistics.mean(data) else True, data)))\n",
    "\n",
    "print('shoha way=============================')\n",
    "answer = list(filter(lambda num: True if num>statistics.mean([1,2,3,4,5,6,7,8,9,10]) else False, [1,2,3,4,5,6,7,8,9,10]))\n",
    "print(answer)\n"
   ]
  },
  {
   "cell_type": "code",
   "execution_count": 91,
   "metadata": {},
   "outputs": [
    {
     "name": "stdout",
     "output_type": "stream",
     "text": [
      "here\n"
     ]
    }
   ],
   "source": [
    "if 'yes':\n",
    "    print('here')\n",
    "#0 equates to False, any other number equates True\n",
    "#anything that is not empty is inherently True"
   ]
  },
  {
   "cell_type": "markdown",
   "metadata": {},
   "source": [
    "## Reduce() <br>\n",
    "<p>Be very careful when using this function, as of Python 3 it's been moved to the 'functools' library and no longer is a built-in function.<br>The creator of Python himself, says to just use a for loop instead.</p>"
   ]
  },
  {
   "cell_type": "markdown",
   "metadata": {},
   "source": [
    "#### Syntax"
   ]
  },
  {
   "cell_type": "code",
   "execution_count": 98,
   "metadata": {},
   "outputs": [
    {
     "name": "stdout",
     "output_type": "stream",
     "text": [
      "num1 2\n",
      "num2 4\n",
      "num1 6\n",
      "num2 7\n",
      "num1 13\n",
      "num2 8\n",
      "num1 21\n",
      "num2 10\n",
      "31\n"
     ]
    }
   ],
   "source": [
    "#used in javascript(week 6)\n",
    "from functools import reduce\n",
    "#reduce(func, iter)\n",
    "\n",
    "list1 = [2,4,7,8,10]\n",
    "def addNums(num1,num2):\n",
    "    print('num1',num1)\n",
    "    print('num2', num2)\n",
    "    return num1+ num2\n",
    "\n",
    "result = reduce(addNums, list1)  #reduces an iterable to a single item\n",
    "print(result)                    \n",
    "\n",
    "\n",
    "#map applies every iteraction to your function; \n",
    "#reduce: iterates through your list, applies your function and returns the aggregated value\n",
    "#num1 =2, num2=4 so num1 = 6 then num2=7 which returns 13\n",
    "#because it has been moved to 'functools' library, not as important "
   ]
  },
  {
   "cell_type": "markdown",
   "metadata": {},
   "source": [
    "#### Using Lambda's with Reduce()"
   ]
  },
  {
   "cell_type": "code",
   "execution_count": 99,
   "metadata": {},
   "outputs": [
    {
     "data": {
      "text/plain": [
       "120"
      ]
     },
     "execution_count": 99,
     "metadata": {},
     "output_type": "execute_result"
    }
   ],
   "source": [
    "reduce(lambda x,y: x*y, [1,2,3,4,5])"
   ]
  },
  {
   "cell_type": "markdown",
   "metadata": {},
   "source": [
    "#### In-Class Exercise #4 <br>\n",
    "<p>Use the reduce function to multiply the numbers in the list below together with a lambda function.</p>"
   ]
  },
  {
   "cell_type": "code",
   "execution_count": 101,
   "metadata": {},
   "outputs": [
    {
     "data": {
      "text/plain": [
       "720"
      ]
     },
     "execution_count": 101,
     "metadata": {},
     "output_type": "execute_result"
    }
   ],
   "source": [
    "reduce(lambda x,y: x*y if x%2==0 else x//y, [6,2,3,4,5])"
   ]
  },
  {
   "cell_type": "markdown",
   "metadata": {},
   "source": [
    "## Recursion <br>\n",
    "<p>Recursion means that a function is calling itself, so it contanstly executes until a base case is reached. It will then push the returning values back up the chain until the function is complete. A prime example of recursion is computing factorials... such that 5! (factorial) is 5*4*3*2*1 which equals 120.</p>"
   ]
  },
  {
   "cell_type": "markdown",
   "metadata": {},
   "source": [
    "#### Implementing a Base Case"
   ]
  },
  {
   "cell_type": "code",
   "execution_count": 109,
   "metadata": {},
   "outputs": [
    {
     "name": "stdout",
     "output_type": "stream",
     "text": [
      "addNums(6)= 6 + addNums(5)\n",
      "addNums(5)= 5 + addNums(4)\n",
      "addNums(4)= 4 + addNums(3)\n",
      "addNums(3)= 3 + addNums(2)\n",
      "addNums(2)= 2 + addNums(1)\n",
      "addNums(1)=1\n",
      "21\n"
     ]
    }
   ],
   "source": [
    "def addNums(num):\n",
    "    #set a base case for a recursive function\n",
    "    if num <= 1:\n",
    "        print('addNums(1)=1')\n",
    "        return num\n",
    "    print(f'addNums({num})= {num} + addNums({num-1})')\n",
    "    return num + addNums(num-1)     \n",
    "    \n",
    "print(addNums(6))\n",
    "# does 6+5+4+3+2+1= 21, when we reach num <=1 then we return"
   ]
  },
  {
   "cell_type": "code",
   "execution_count": 112,
   "metadata": {},
   "outputs": [
    {
     "name": "stdout",
     "output_type": "stream",
     "text": [
      "10, looping again\n",
      "9, looping again\n",
      "8, looping again\n",
      "7, looping again\n",
      "6, looping again\n",
      "5, looping again\n",
      "4, looping again\n",
      "3, looping again\n",
      "2, looping again\n"
     ]
    },
    {
     "data": {
      "text/plain": [
       "'done'"
      ]
     },
     "execution_count": 112,
     "metadata": {},
     "output_type": "execute_result"
    }
   ],
   "source": [
    "def infinite(num):\n",
    "    if num ==1:\n",
    "        return 'done'\n",
    "    print(f'{num}, looping again')\n",
    "    return infinite(num-1)\n",
    "\n",
    "infinite(10)\n",
    "#without using a while or for loop, lets you run it over and over again until you set a base case"
   ]
  },
  {
   "cell_type": "markdown",
   "metadata": {},
   "source": [
    "#### Writing a Factorial Function"
   ]
  },
  {
   "cell_type": "code",
   "execution_count": 115,
   "metadata": {},
   "outputs": [
    {
     "data": {
      "text/plain": [
       "120"
      ]
     },
     "execution_count": 115,
     "metadata": {},
     "output_type": "execute_result"
    }
   ],
   "source": [
    "# 5! = 5*4*3*2*1 \n",
    "def factorial(num):\n",
    "    if num <=1:\n",
    "        return num\n",
    "    return num * factorial(num-1)\n",
    "factorial(5)\n",
    "#goes to find factorial(5) to 1 to find each value, then goes back up the line to multiply it"
   ]
  },
  {
   "cell_type": "markdown",
   "metadata": {},
   "source": [
    "#### In-Class Exercise #5 <br>\n",
    "<p>Write a recursive function that subtracts all numbers to the argument given.</p>"
   ]
  },
  {
   "cell_type": "code",
   "execution_count": 118,
   "metadata": {},
   "outputs": [
    {
     "data": {
      "text/plain": [
       "3"
      ]
     },
     "execution_count": 118,
     "metadata": {},
     "output_type": "execute_result"
    }
   ],
   "source": [
    "def subtraction(num):\n",
    "    if num <=1:\n",
    "        return num\n",
    "    return num - subtraction(num-1)\n",
    "subtraction(5)\n",
    "#sub(5)= 5 - sub(4) which is 4- sub(3) which is 3 -sub(2) which is 1\n",
    "#2-1 = 1; 3-1 = 2; 4-2 =2; 5-2 =3"
   ]
  },
  {
   "cell_type": "markdown",
   "metadata": {},
   "source": [
    "## Generators <br>\n",
    "<p>Generators are a type of iterable, like lists or tuples. They do not allow indexing, but they can still be iterated through with for loops. They are created using functions and the yield statement.</p>"
   ]
  },
  {
   "cell_type": "markdown",
   "metadata": {},
   "source": [
    "#### Yield Keyword <br>\n",
    "<p>The yield keyword denotes a generator, it doesn't return so it won't leave the function and reset all variables in the function scope, instead it yields the number back to the caller.</p>"
   ]
  },
  {
   "cell_type": "code",
   "execution_count": 127,
   "metadata": {},
   "outputs": [
    {
     "name": "stdout",
     "output_type": "stream",
     "text": [
      "2\n",
      "4\n",
      "6\n",
      "8\n",
      "10\n",
      "12\n",
      "14\n",
      "16\n",
      "18\n",
      "18\n"
     ]
    }
   ],
   "source": [
    "#for i in (range(10)):\n",
    "#     print(i)\n",
    "\n",
    "def myRange(start,stop,step=2):\n",
    "    while start<stop:\n",
    "        yield start  #yield keynote denotes a generator \n",
    "        start += step\n",
    "\n",
    "#list(myRange(2,20))\n",
    "myRange(2,20)\n",
    "for i in myRange(2,20):\n",
    "    myGeneratorValue = i\n",
    "    print (i)\n",
    "\n",
    "print(myGeneratorValue)\n"
   ]
  },
  {
   "cell_type": "markdown",
   "metadata": {},
   "source": [
    "#### Infinite Generator"
   ]
  },
  {
   "cell_type": "code",
   "execution_count": null,
   "metadata": {},
   "outputs": [],
   "source": [
    "# bad, never create infinite loops"
   ]
  },
  {
   "cell_type": "markdown",
   "metadata": {},
   "source": [
    "#### In-Class Exercise #6 <br>\n",
    "<p>Create a generator that takes a number argument and yields that number squared, then prints each number squared until zero is reached.</p>"
   ]
  },
  {
   "cell_type": "code",
   "execution_count": 136,
   "metadata": {},
   "outputs": [
    {
     "name": "stdout",
     "output_type": "stream",
     "text": [
      "1\n",
      "4\n",
      "9\n",
      "16\n",
      "25\n",
      "36\n",
      "49\n",
      "64\n",
      "81\n",
      "100\n",
      "100\n",
      "=======================\n",
      "100\n",
      "81\n",
      "64\n",
      "49\n",
      "36\n",
      "25\n",
      "16\n",
      "9\n",
      "4\n",
      "1\n",
      "[100, 81, 64, 49, 36, 25, 16, 9, 4, 1]\n"
     ]
    }
   ],
   "source": [
    "def newGenerator(start, stop, step=1):\n",
    "    while start < stop:\n",
    "        yield start\n",
    "        start += step\n",
    "\n",
    "for i in newGenerator(1,11):\n",
    "    i = i**2\n",
    "    myGeneratorValue= i\n",
    "    print(i)\n",
    "    \n",
    "print(myGeneratorValue)\n",
    "\n",
    "print('======================= think this is better')\n",
    "def myGen(num):\n",
    "    while num>0:\n",
    "        yield num**2\n",
    "        num -=1 \n",
    "for x in myGen(10):\n",
    "    print(x)\n",
    "print(list(myGen(10)))\n",
    "\n",
    "#why use a generator instead of just printing x**2 or appending?\n",
    "#generators are good for working w/ huge data sets you don't want stored into a list; can convery to a list if you want\n",
    "#everyday purposes- don't need to use generators, but if your code is slow, use generator\n",
    "\n",
    "\n",
    "#need to really understand loops to get good at lambdas and maps\n"
   ]
  },
  {
   "cell_type": "markdown",
   "metadata": {},
   "source": [
    "# Exercises"
   ]
  },
  {
   "cell_type": "markdown",
   "metadata": {},
   "source": [
    "### Exercise #1 <br>\n",
    "<p>Filter out all of the empty strings from the list below</p>\n",
    "\n",
    "`Output: ['Argentina', 'San Diego', 'Boston', 'New York']`"
   ]
  },
  {
   "cell_type": "code",
   "execution_count": 1,
   "metadata": {},
   "outputs": [
    {
     "data": {
      "text/plain": [
       "['Argentina', 'San Diego', 'Boston', 'New York']"
      ]
     },
     "execution_count": 1,
     "metadata": {},
     "output_type": "execute_result"
    }
   ],
   "source": [
    "places = [\" \",\"Argentina\", \" \", \"San Diego\",\"\",\"  \",\"\",\"Boston\",\"New York\"]\n",
    " \n",
    "\n",
    "new_places = [x.strip(' ') for x in places]\n",
    "list(filter(None, new_places))\n",
    "\n",
    "\n",
    "#empty items return false, but \" \"(spaces) aren't empty so must strip it before"
   ]
  },
  {
   "cell_type": "markdown",
   "metadata": {},
   "source": [
    "### Exercise #2 <br>\n",
    "<p>Write an anonymous function that sorts this list by the last name...<br><b>Hint: Use the \".sort()\" method and access the key\"</b></p>\n",
    "\n",
    "`Output: ['Victor aNisimov', 'Gary A.J. Bernstein', 'Andrew P. Garfield', 'David hassELHOFF', 'Shoha Tsuchida']`"
   ]
  },
  {
   "cell_type": "code",
   "execution_count": 22,
   "metadata": {},
   "outputs": [
    {
     "name": "stdout",
     "output_type": "stream",
     "text": [
      "['Victor aNisimov', 'Gary A.J. Bernstein', 'Andrew P. Garfield', 'David hassELHOFF', 'Shoha Tsuchida']\n"
     ]
    }
   ],
   "source": [
    "author = [\"Shoha Tsuchida\", \"Victor aNisimov\", \"Andrew P. Garfield\",\"David hassELHOFF\",\"Gary A.J. Bernstein\"]\n",
    "# new_author = author.title()\n",
    "\n",
    "author = sorted(author, key=lambda x: x.lower().split()[-1])\n",
    "print(author)\n",
    "\n",
    "#key(optional) is a function to execute to decide the order; #reverse(optional): boolean w/ False sort ascending(default) and True sort descending\n",
    "#sorted() accepts any iterable while list.sort() is only for lists\n",
    "#syntax for sorted(): sorted(<iterable> <key> <reverse>)\n",
    "\n",
    "        \n",
    "    "
   ]
  },
  {
   "cell_type": "markdown",
   "metadata": {},
   "source": [
    "### Exercise #3 <br>\n",
    "<p>Convert the list below from Celsius to Farhenheit, using the map function with a lambda...</p>\n",
    "\n",
    "`Output: [('Nashua', 89.6), ('Boston', 53.6), ('Los Angelos', 111.2), ('Miami', 84.2)]\n",
    "`"
   ]
  },
  {
   "cell_type": "code",
   "execution_count": 38,
   "metadata": {},
   "outputs": [
    {
     "data": {
      "text/plain": [
       "[89.6, 53.6, 111.2, 84.2]"
      ]
     },
     "execution_count": 38,
     "metadata": {},
     "output_type": "execute_result"
    }
   ],
   "source": [
    "# F = (9/5)*C + 32\n",
    "places = [('Nashua',32),(\"Boston\",12),(\"Los Angelos\",44),(\"Miami\",29)]\n",
    "\n",
    "# class Farenheit:\n",
    "#     def __init__(self, location, temp):\n",
    "#         self.location = location\n",
    "#         self.temp = temp\n",
    "\n",
    "list(map(lambda x: (9/5) * x[1] + 32, places))\n",
    "\n",
    "#still not very comfortable with maps\n"
   ]
  },
  {
   "cell_type": "markdown",
   "metadata": {},
   "source": [
    "### Exercise #4 <br>\n",
    "<p>Write a recursion function to perform the fibonacci sequence up to the number passed in.</p>\n",
    "\n",
    "`Output for fib(5) => \n",
    "Iteration 0: 1\n",
    "Iteration 1: 1\n",
    "Iteration 2: 2\n",
    "Iteration 3: 3\n",
    "Iteration 4: 5\n",
    "Iteration 5: 8`"
   ]
  },
  {
   "cell_type": "code",
   "execution_count": 40,
   "metadata": {
    "scrolled": true
   },
   "outputs": [
    {
     "name": "stdout",
     "output_type": "stream",
     "text": [
      "Iteration5: \n",
      "Iteration4: \n",
      "Iteration3: \n",
      "Iteration2: \n",
      "iteration1\n",
      "iteration0\n",
      "iteration1\n",
      "Iteration2: \n",
      "iteration1\n",
      "iteration0\n",
      "Iteration3: \n",
      "Iteration2: \n",
      "iteration1\n",
      "iteration0\n",
      "iteration1\n",
      "5\n"
     ]
    }
   ],
   "source": [
    "def fibNum(num):\n",
    "    if num <=1:\n",
    "        print(f'iteration{num}')\n",
    "        return num\n",
    "    print(f'Iteration{num}: ')\n",
    "    return fibNum(num-1) + fibNum(num-2)\n",
    "print(fibNum(5))\n",
    "\n",
    "\n",
    "#need help for this as well\n",
    "\n",
    "#0,1,1,2,3,5,8,13"
   ]
  }
 ],
 "metadata": {
  "kernelspec": {
   "display_name": "Python 3",
   "language": "python",
   "name": "python3"
  },
  "language_info": {
   "codemirror_mode": {
    "name": "ipython",
    "version": 3
   },
   "file_extension": ".py",
   "mimetype": "text/x-python",
   "name": "python",
   "nbconvert_exporter": "python",
   "pygments_lexer": "ipython3",
   "version": "3.8.8"
  }
 },
 "nbformat": 4,
 "nbformat_minor": 2
}
